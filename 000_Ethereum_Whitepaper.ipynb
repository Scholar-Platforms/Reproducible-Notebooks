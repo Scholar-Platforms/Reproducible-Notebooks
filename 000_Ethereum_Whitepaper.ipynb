{
  "nbformat": 4,
  "nbformat_minor": 0,
  "metadata": {
    "colab": {
      "provenance": []
    },
    "kernelspec": {
      "name": "python3",
      "display_name": "Python 3"
    },
    "language_info": {
      "name": "python"
    }
  },
  "cells": [
    {
      "cell_type": "markdown",
      "source": [
        "Code to reproduce figures in the 'Currency and Issuance' section of the Ethereum Whitepaper."
      ],
      "metadata": {
        "id": "SalAKzzR6aji"
      }
    },
    {
      "cell_type": "code",
      "execution_count": 1,
      "metadata": {
        "id": "zwDIikBfaQQi"
      },
      "outputs": [],
      "source": [
        "import matplotlib.pyplot as plt\n"
      ]
    },
    {
      "cell_type": "markdown",
      "source": [
        "Setup constants. Feel free to tweak these to see how the output plot changes."
      ],
      "metadata": {
        "id": "nXOC_yw96mX9"
      }
    },
    {
      "cell_type": "code",
      "source": [
        "# Plot Years\n",
        "START_YEAR = 2015\n",
        "END_YEAR = 2150\n",
        "\n",
        "# Issuance\n",
        "EARLY_CONTRIBUTER_ALLOC = 0.099\n",
        "LONG_TERM_RESEARCH_ALLOC = 0.099\n",
        "YEARLY_MINER_ALLOC = 0.26\n",
        "\n",
        "# Loss Rate\n",
        "LOSS_RATE = 0.01"
      ],
      "metadata": {
        "id": "rvlRD5Ax45-m"
      },
      "execution_count": 12,
      "outputs": []
    },
    {
      "cell_type": "markdown",
      "source": [
        "Generate plot of expected annual issuance."
      ],
      "metadata": {
        "id": "mmlcn7j668ZI"
      }
    },
    {
      "cell_type": "code",
      "source": [
        "x = range(START_YEAR, END_YEAR)\n",
        "y = []\n",
        "\n",
        "for i in range(1, len(x)+1):\n",
        "  # Percentage increase in supply\n",
        "  pcnt_increase = (YEARLY_MINER_ALLOC) / ( (1 + EARLY_CONTRIBUTER_ALLOC + LONG_TERM_RESEARCH_ALLOC) + (YEARLY_MINER_ALLOC * (i - 1)))\n",
        "  # Percentage lost due to carelessness, death, etc.\n",
        "  pcnt_change = pcnt_increase - LOSS_RATE\n",
        "\n",
        "  y.append(pcnt_change * 100)\n",
        "\n",
        "# Set plot width\n",
        "f = plt.figure()\n",
        "f.set_figwidth(10)\n",
        "f.set_figheight(5)\n",
        "\n",
        "# Plot graph\n",
        "plt.plot(x, y)\n",
        "plt.xlabel('Year')\n",
        "plt.ylabel('Annual Percentage Rate')\n",
        "plt.title('Anticipated Ether Supply Growth Rate')"
      ],
      "metadata": {
        "colab": {
          "base_uri": "https://localhost:8080/",
          "height": 367
        },
        "id": "RGP3yfpoysU1",
        "outputId": "0fe45e60-a3e0-4394-8373-94f671c7011d"
      },
      "execution_count": 18,
      "outputs": [
        {
          "output_type": "execute_result",
          "data": {
            "text/plain": [
              "Text(0.5, 1.0, 'Anticipated Ether Supply Growth Rate')"
            ]
          },
          "metadata": {},
          "execution_count": 18
        },
        {
          "output_type": "display_data",
          "data": {
            "text/plain": [
              "<Figure size 720x360 with 1 Axes>"
            ],
            "image/png": "[encoded data removed]"
          },
          "metadata": {
            "needs_background": "light"
          }
        }
      ]
    }
  ]
}
