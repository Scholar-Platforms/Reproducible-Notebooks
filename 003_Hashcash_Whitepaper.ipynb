{
  "nbformat": 4,
  "nbformat_minor": 0,
  "metadata": {
    "colab": {
      "provenance": []
    },
    "kernelspec": {
      "name": "python3",
      "display_name": "Python 3"
    },
    "language_info": {
      "name": "python"
    }
  },
  "cells": [
    {
      "cell_type": "markdown",
      "source": [
        "Python implementation of the Hashcash algorithm from the Hashcash whitepaper.\n",
        "\n",
        "Adapted from https://github.com/per06a/hashcash."
      ],
      "metadata": {
        "id": "ym6B-zLc9LKu"
      }
    },
    {
      "cell_type": "code",
      "source": [
        "from hashlib import sha1\n",
        "from datetime import datetime\n",
        "from random import randint\n",
        "from math import ceil"
      ],
      "metadata": {
        "id": "23U_FlBK9j98"
      },
      "execution_count": 2,
      "outputs": []
    },
    {
      "cell_type": "markdown",
      "source": [
        "Setup useful data structs and constants."
      ],
      "metadata": {
        "id": "TOYyy7Lv9kq-"
      }
    },
    {
      "cell_type": "code",
      "source": [
        "rand_chars = ([chr(x) for x in range(ord('a'), ord('z'))] +\n",
        "              [chr(x) for x in range(ord('A'), ord('Z'))] +\n",
        "              [chr(x) for x in range(ord('0'), ord('9'))] +\n",
        "              ['+', '-', '/'])\n",
        "\n",
        "char_map = {'0' : '0000',\n",
        "            '1' : '0001',\n",
        "            '2' : '0010',\n",
        "            '3' : '0011',\n",
        "            '4' : '0100',\n",
        "            '5' : '0101',\n",
        "            '6' : '0110',\n",
        "            '7' : '0111',\n",
        "            '8' : '1000',\n",
        "            '9' : '1001',\n",
        "            'a' : '1010',\n",
        "            'b' : '1011',\n",
        "            'c' : '1100',\n",
        "            'd' : '1101',\n",
        "            'e' : '1110',\n",
        "            'f' : '1111'}\n",
        "\n",
        "rc_len = len(rand_chars)\n",
        "\n",
        "min_bits = 0\n",
        "# Max number of bits for SHA-1 stamps\n",
        "max_bits = 160\n",
        "default_bits = 15"
      ],
      "metadata": {
        "id": "nnVT5IY8-CEL"
      },
      "execution_count": 3,
      "outputs": []
    },
    {
      "cell_type": "markdown",
      "source": [
        "Setup functions to generate and validate hashes."
      ],
      "metadata": {
        "id": "fi4N8nl0-F7V"
      }
    },
    {
      "cell_type": "code",
      "execution_count": 4,
      "metadata": {
        "id": "JaqQ7Q6f9I-A"
      },
      "outputs": [],
      "source": [
        "def is_valid(stamp : str) -> bool:\n",
        "    return validate(int(stamp.split(':')[1]), stamp)\n",
        "\n",
        "def validate(nbits : int, stamp : str, encoding : str ='utf-8') -> bool:\n",
        "    if nbits < min_bits or nbits > max_bits:\n",
        "        raise ValueError(\"Param 'nbits' must be in range [0, 160), but is {}\".format(nbits))\n",
        "\n",
        "    i = 0\n",
        "    total = 0\n",
        "    N = int(nbits/8)\n",
        "    hashed = sha1(stamp.encode(encoding)).digest()\n",
        "\n",
        "    while i < N:\n",
        "        total |= hashed[i]\n",
        "        i += 1\n",
        "\n",
        "    remainder = nbits % 8\n",
        "    if remainder != 0:\n",
        "        total |= hashed[i] >> (8 - remainder)\n",
        "\n",
        "    return total == 0\n",
        "\n",
        "def generate(nbits : int, resource : str, encoding : str ='utf-8') -> str:\n",
        "    # ver:bits:date:resource:[ext]:rand:counter\n",
        "    ver = 1\n",
        "    bits = nbits\n",
        "    date_str = datetime.utcnow().strftime(\"%Y%m%d%H%M%S\")\n",
        "    ext = ''\n",
        "    rand = ''.join(rand_chars[randint(0, rc_len-1)] for x in range(0, 10))\n",
        "    counter = 0\n",
        "\n",
        "    result = None\n",
        "    while result is None:\n",
        "        stamp = \":\".join(str(elem) for elem in [ver, bits, date_str, resource, ext, rand, counter])\n",
        "\n",
        "        if validate(nbits, stamp, encoding=encoding):\n",
        "            result = stamp\n",
        "            break\n",
        "\n",
        "        counter += 1\n",
        "\n",
        "    return result"
      ]
    },
    {
      "cell_type": "markdown",
      "source": [
        "Run the algorithm on some test inputs."
      ],
      "metadata": {
        "id": "gQRcDTlh-d1v"
      }
    },
    {
      "cell_type": "code",
      "source": [
        "# Expect True\n",
        "stamp = generate(15, \"adam_back\")\n",
        "print(is_valid(stamp))\n",
        "\n",
        "# Expect True\n",
        "stamp = generate(10, \"this is the hashcash whitepaper algorithm\")\n",
        "print(is_valid(stamp))\n",
        "\n",
        "# Expect False\n",
        "invalid_stamp = \"1:15:20221207003057:invalid stamp::AOBqCSUVg3:56309\"\n",
        "print(is_valid(invalid_stamp))"
      ],
      "metadata": {
        "colab": {
          "base_uri": "https://localhost:8080/"
        },
        "id": "ITUCS91R-m4I",
        "outputId": "d3e9984b-7772-4114-be67-b2664227ab69"
      },
      "execution_count": 12,
      "outputs": [
        {
          "output_type": "stream",
          "name": "stdout",
          "text": [
            "True\n",
            "True\n",
            "False\n"
          ]
        }
      ]
    }
  ]
}
