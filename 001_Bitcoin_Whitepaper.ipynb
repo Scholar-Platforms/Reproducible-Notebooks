{
  "nbformat": 4,
  "nbformat_minor": 0,
  "metadata": {
    "colab": {
      "provenance": []
    },
    "kernelspec": {
      "name": "python3",
      "display_name": "Python 3"
    },
    "language_info": {
      "name": "python"
    }
  },
  "cells": [
    {
      "cell_type": "markdown",
      "source": [
        "Code to reproduce results in the '11. Calculations' section of the Bitcoin Whitepaper.\n"
      ],
      "metadata": {
        "id": "SalAKzzR6aji"
      }
    },
    {
      "cell_type": "code",
      "execution_count": 48,
      "metadata": {
        "id": "zwDIikBfaQQi"
      },
      "outputs": [],
      "source": [
        "import math\n"
      ]
    },
    {
      "cell_type": "markdown",
      "source": [
        "Setup function, as per whitepaper."
      ],
      "metadata": {
        "id": "nXOC_yw96mX9"
      }
    },
    {
      "cell_type": "code",
      "source": [
        "# Replicated function from C code\n",
        "def attacker_success_probability(q, z):\n",
        "  p = 1.0 - q\n",
        "  lmbda = z * (q / p)\n",
        "  sum = 1.0\n",
        "  for k in range(0, z + 1):\n",
        "    poisson = math.exp(-lmbda)\n",
        "    for i in range(1, k + 1):\n",
        "      poisson = poisson * (lmbda / i)\n",
        "    sum = sum - poisson * (1 - pow(q / p, z - k))\n",
        "\n",
        "  return sum"
      ],
      "metadata": {
        "id": "rvlRD5Ax45-m"
      },
      "execution_count": 49,
      "outputs": []
    },
    {
      "cell_type": "markdown",
      "source": [
        "Run some results to see the probability drop off exponentially with z."
      ],
      "metadata": {
        "id": "mmlcn7j668ZI"
      }
    },
    {
      "cell_type": "code",
      "source": [
        "# Helper function to run and print results\n",
        "def log_results(q, z_0, z_1, z_step):\n",
        "  print('q=%.1f' % q)\n",
        "  for z in range(z_0, z_1, z_step):\n",
        "    P = attacker_success_probability(q, z)\n",
        "    print('z=%d\\tP=%.7f' % (z, P))\n",
        "\n",
        "  print()\n",
        "\n",
        "# Run\n",
        "log_results(0.1, 0, 11, 1)\n",
        "log_results(0.3, 0, 51, 5)"
      ],
      "metadata": {
        "colab": {
          "base_uri": "https://localhost:8080/"
        },
        "id": "cWbjgf-DArVx",
        "outputId": "dc7aab95-ab1b-4578-ce36-210ba39e7da8"
      },
      "execution_count": 50,
      "outputs": [
        {
          "output_type": "stream",
          "name": "stdout",
          "text": [
            "q=0.1\n",
            "z=0\tP=1.0000000\n",
            "z=1\tP=0.2045873\n",
            "z=2\tP=0.0509779\n",
            "z=3\tP=0.0131722\n",
            "z=4\tP=0.0034552\n",
            "z=5\tP=0.0009137\n",
            "z=6\tP=0.0002428\n",
            "z=7\tP=0.0000647\n",
            "z=8\tP=0.0000173\n",
            "z=9\tP=0.0000046\n",
            "z=10\tP=0.0000012\n",
            "\n",
            "q=0.3\n",
            "z=0\tP=1.0000000\n",
            "z=5\tP=0.1773523\n",
            "z=10\tP=0.0416605\n",
            "z=15\tP=0.0101008\n",
            "z=20\tP=0.0024804\n",
            "z=25\tP=0.0006132\n",
            "z=30\tP=0.0001522\n",
            "z=35\tP=0.0000379\n",
            "z=40\tP=0.0000095\n",
            "z=45\tP=0.0000024\n",
            "z=50\tP=0.0000006\n",
            "\n"
          ]
        }
      ]
    },
    {
      "cell_type": "markdown",
      "source": [
        "Solving for `P` less than 0.1%..."
      ],
      "metadata": {
        "id": "w0FDoxA_D0Vb"
      }
    },
    {
      "cell_type": "code",
      "source": [
        "# Helper function to run and print results\n",
        "def solve_p_less_than(target, q):\n",
        "  for z in range(0, 500):\n",
        "    P = attacker_success_probability(q, z)\n",
        "    if P < target:\n",
        "      print('q=%.2f\\tz=%d' % (q, z))\n",
        "      return\n",
        "\n",
        "# Run\n",
        "target = 0.001\n",
        "print('P < %.3f' % target)\n",
        "solve_p_less_than(target, 0.10)\n",
        "solve_p_less_than(target, 0.15)\n",
        "solve_p_less_than(target, 0.20)\n",
        "solve_p_less_than(target, 0.25)\n",
        "solve_p_less_than(target, 0.30)\n",
        "solve_p_less_than(target, 0.35)\n",
        "solve_p_less_than(target, 0.40)\n",
        "solve_p_less_than(target, 0.45)"
      ],
      "metadata": {
        "colab": {
          "base_uri": "https://localhost:8080/"
        },
        "id": "0HhqwjDvD5RB",
        "outputId": "ca062bd3-5054-4f42-a2ab-4a0e73d91623"
      },
      "execution_count": 51,
      "outputs": [
        {
          "output_type": "stream",
          "name": "stdout",
          "text": [
            "P < 0.001\n",
            "q=0.10\tz=5\n",
            "q=0.15\tz=8\n",
            "q=0.20\tz=11\n",
            "q=0.25\tz=15\n",
            "q=0.30\tz=24\n",
            "q=0.35\tz=41\n",
            "q=0.40\tz=89\n",
            "q=0.45\tz=340\n"
          ]
        }
      ]
    }
  ]
}
